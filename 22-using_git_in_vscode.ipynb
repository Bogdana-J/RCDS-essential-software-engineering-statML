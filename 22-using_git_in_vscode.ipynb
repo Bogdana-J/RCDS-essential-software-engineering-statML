{
 "cells": [
  {
   "cell_type": "markdown",
   "metadata": {},
   "source": [
    "# Using Git in Your VS Code\n",
    "\n",
    "## Objectives\n",
    "- Understand what Git is and how it relates to version control\n",
    "- Learn how to use Git through VS Code's graphical interface\n",
    "- Understand the basic workflow of saving changes with Git\n",
    "\n",
    "## Questions\n",
    "- What is Git and how does it implement version control?\n",
    "- How do I save my changes using Git?\n",
    "- How can I view my previous changes?"
   ]
  },
  {
   "cell_type": "markdown",
   "metadata": {},
   "source": [
    "## What is Git?\n",
    "\n",
    "In the previous lesson, we learned about version control - the concept of tracking changes to our files over time. **Git** is the specific version control system we'll be using. It's like a time machine for your code that:\n",
    "- Remembers every change you make\n",
    "- Lets you look back at previous versions\n",
    "- Allows you to return to earlier versions if needed\n",
    "\n",
    "VS Code comes with the Git interface by default, and within the Codespace it is already set up and ready to use. If you are working on your own laptop, you may be asked to provide your name and email - these should match the username and email associated with your GitHub account."
   ]
  },
  {
   "cell_type": "markdown",
   "metadata": {},
   "source": [
    "## The Source Control Panel\n",
    "\n",
    "Look at the left sidebar in VS Code and click the Source Control icon. It looks like a branch and may have a blue notification indicating that changes have been made.\n",
    "\n",
    "![Source control button in VS Code](resources/git/source-control-icon.png)\n",
    "\n",
    "The Source Control panel shows you all the files you've changed since your last save point (called a 'commit' in Git terminology)."
   ]
  },
  {
   "cell_type": "markdown",
   "metadata": {},
   "source": [
    "## How Git Tracks Your Changes\n",
    "\n",
    "Git works by taking \"snapshots\" of your files. The process has three stages:\n",
    "\n",
    "1. **Making Changes**: Edit your files as normal in VS Code\n",
    "2. **Staging Changes**: Tell Git which changes you want to save (like arranging items to stage a scene)\n",
    "3. **Committing Changes**: Take the snapshot with a message describing what you did\n",
    "\n",
    "Important: Just saving your file (which happens automatically in the Codespace, or manually with `Ctrl+S`) only saves it to disk - it doesn't create a snapshot in Git! You need to **stage** and **commit** to save a version in Git."
   ]
  },
  {
   "cell_type": "markdown",
   "metadata": {},
   "source": [
    "## Making Your First Commit\n",
    "\n",
    "Let's walk through saving changes with Git. We've already made several changes to our project today, so these will appear in the Source Control Panel of VS Code.\n",
    "\n",
    "1. **Changes to a file**\n",
    "   - The file will appear in the Source Control panel\n",
    "   - Previously commited files will show `M` for modified\n",
    "   - New files will show `U`, which means new (untracked)\n",
    "\n",
    "   <img src=\"resources/git/changed-files.png\" width=\"20%\"/>\n",
    "\n",
    "2. **Stage your changes**\n",
    "   - Click the `+` next to the file\n",
    "   - The file moves to 'Staged Changes'\n",
    "   - You can stage multiple files if needed, or unstage a file with `-`\n",
    "\n",
    "   <img src=\"resources/git/staging-area.png\" width=\"20%\"/>\n",
    "\n",
    "3. **Commit your changes**\n",
    "   - Type a message describing what you changed\n",
    "   - Good messages help you find changes later\n",
    "   - Click the `✓ Commit` button\n",
    "   \n",
    "   <img src=\"resources/git/commit-message.png\" width=\"20%\"/>"
   ]
  },
  {
   "cell_type": "markdown",
   "metadata": {},
   "source": [
    "## Viewing Your Changes\n",
    "\n",
    "VS Code makes it easy to see what you've changed:\n",
    "\n",
    "1. **Before committing**\n",
    "   - Click any modified file in the Source Control panel\n",
    "   - VS Code shows what changed:\n",
    "     - Red = removed lines\n",
    "     - Green = added lines\n",
    "     \n",
    "   <img src=\"resources/git/viewing-changes.png\" width=\"80%\"/>\n",
    "\n",
    "2. **After committing**\n",
    "   - Click the _Source Control Graph_ view below _Source Control_\n",
    "   - See all your previous commits\n",
    "   - Click any commit to see what changed\n",
    "   \n",
    "   <img src=\"resources/git/history.png\" width=\"80%\"/>"
   ]
  },
  {
   "cell_type": "markdown",
   "metadata": {},
   "source": [
    "## Let's Practise!\n",
    "\n",
    "Try this sequence to commit changes made to the remaining files\n",
    "\n",
    "1. Commits should capture small changes, so prefer to work one file at a time\n",
    "1. Stage the change (click the `+`)\n",
    "1. Write a message succinctly describing that specific change\n",
    "   - consider prefixing with `feat:` if adding something new or `fix:` if fixing a bug\n",
    "1. Commit the change (click `✓ Commit`)\n",
    "1. Check the Timeline to find your commit\n",
    "1. Repeat the process until all files are committed!\n",
    "\n",
    "\n",
    "### Questions to Think About\n",
    "- What happens in the Source Control panel when you modify a file?\n",
    "- What happens if you change a file after staging but before committing?\n",
    "- How can you tell if a file has been staged?\n",
    "- Why do you think we write messages with our commits?"
   ]
  },
  {
   "cell_type": "markdown",
   "metadata": {},
   "source": [
    "## Common Git Terms\n",
    "\n",
    "As you use Git, you'll see these terms:\n",
    "\n",
    "- **Modified**: You changed the file but haven't staged it yet\n",
    "- **Staged**: You've marked the file as ready to be committed\n",
    "- **Committed**: You've saved a snapshot of the file\n",
    "- **Untracked**: A new file Git hasn't seen before\n",
    "\n",
    "Don't worry about memorising these - VS Code's interface makes it clear what's happening!"
   ]
  },
  {
   "cell_type": "markdown",
   "metadata": {},
   "source": [
    "## Key Points\n",
    "\n",
    "- Git helps you track changes to your files over time\n",
    "- The basic workflow is: **change** → **stage** → **commit**\n",
    "- VS Code shows you what changed in each file\n",
    "- Commit messages help you remember why you made changes"
   ]
  }
 ],
 "metadata": {
  "kernelspec": {
   "display_name": "Python 3",
   "language": "python",
   "name": "python3"
  },
  "language_info": {
   "codemirror_mode": {
    "name": "ipython",
    "version": 3
   },
   "file_extension": ".py",
   "mimetype": "text/x-python",
   "name": "python",
   "nbconvert_exporter": "python",
   "pygments_lexer": "ipython3",
   "version": "3.11.11"
  }
 },
 "nbformat": 4,
 "nbformat_minor": 4
}
