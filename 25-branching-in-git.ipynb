{
 "cells": [
  {
   "cell_type": "markdown",
   "metadata": {},
   "source": [
    "# Git Branches: Working on Features\n",
    "\n",
    "## Objectives\n",
    "- Understand what branches are and why we use them\n",
    "- Learn to create and manage branches in VS Code\n",
    "- Practise a feature branch workflow\n",
    "\n",
    "## Questions\n",
    "- How do branches help us organise our work?\n",
    "- How do I work with branches in VS Code?\n",
    "- What is a good branching workflow?"
   ]
  },
  {
   "cell_type": "markdown",
   "metadata": {},
   "source": [
    "## What are Branches?\n",
    "\n",
    "Branches let you develop features, fix bugs, and safely experiment with new ideas in a contained area of your repository. You can think of them as parallel timelines:\n",
    "\n",
    "- `main` branch: The primary version of your code\n",
    "- Feature branches: Where you develop new features\n",
    "- Bug fix branches: Where you fix problems\n",
    "\n",
    "<img src=\"resources/git/branching.png\" width=\"10%\"/>\n",
    "\n",
    "Changes in one branch don't affect other branches until you merge them."
   ]
  },
  {
   "cell_type": "markdown",
   "metadata": {},
   "source": [
    "## Creating a Branch\n",
    "\n",
    "Let's create a branch to add a new sorting algorithm. In VS Code:\n",
    "\n",
    "1. Click the branch name in the bottom-left corner, next to **Codespaces: ...** (it probably says `main*`)\n",
    "\n",
    "    <img src=\"resources/git/branch-button.png\" width=\"20%\"/>\n",
    "\n",
    "2. In the drop-down at the top of the screen, select `Create new branch...`\n",
    "\n",
    "    <img src=\"resources/git/branch-drop-down.png\" width=\"30%\"/>\n",
    "\n",
    "    **Note that this option creates a new branch from your current branch (which was `main`).** Use *Create new branch from...* if you want to be specific.\n",
    "\n",
    "3. Name it `feature/new-sort`\n",
    "   - Using `feature/` prefix helps organise branches\n",
    "   - Use lowercase and hyphens for spaces\n",
    "\n",
    "4. Notice the branch name in the bottom left changes\n",
    "\n",
    "You're now working in your new branch! Changes here won't affect `main`."
   ]
  },
  {
   "cell_type": "markdown",
   "metadata": {},
   "source": [
    "## Working in Your Branch\n",
    "\n",
    "Let's add our new sorting algorithm:\n",
    "\n",
    "1. Open `sorts.py`\n",
    "2. Ask Copilot to add another sorting algorithm.\n",
    "3. Stage and commit your changes\n",
    "4. Push your branch\n",
    "   - First time: Click `Publish Branch`\n",
    "   - After that: Use `Sync Changes`\n",
    "\n",
    "Visit your repository in GitHub - you'll usually see a notification about your branch, and can access it from the branch drop-down.\n",
    "\n",
    "   <img src=\"resources/git/new-branch-in-github.png\" width=\"20%\"/>"
   ]
  },
  {
   "cell_type": "markdown",
   "metadata": {},
   "source": [
    "## Switching Branches\n",
    "\n",
    "You can easily switch between branches:\n",
    "\n",
    "1. Click the branch name (bottom left)\n",
    "2. Select a branch to switch to in the drop-down that appears - choose `main`\n",
    "\n",
    "Notice that `sorts.py` changes - the quicksort algorithm isn't there when you're on `main`!\n",
    "\n",
    "⚠️ **Important**: To simplify your workflow, commit changes before switching branches"
   ]
  },
  {
   "cell_type": "markdown",
   "metadata": {},
   "source": [
    "## Creating a Pull Request\n",
    "\n",
    "When your feature is ready, create a Pull Request (PR) to merge it into `main`:\n",
    "\n",
    "1. Ensure you are on your feature branch.\n",
    "\n",
    "2. In Source Control, click `Create Pull Request`\n",
    "\n",
    "    <img src=\"resources/git/create-pr.png\" width=\"25%\"/>\n",
    "\n",
    "2. This opens a new form, where you can:\n",
    "   - Choose the **base** repository and branch - where you want to send your changes\n",
    "   - Title your PR (e.g., \"add new sort\")\n",
    "   - Describe your changes\n",
    "   \n",
    "   <img src=\"resources/git/pr-form.png\" width=\"20%\"/>\n",
    "\n",
    "3. Click `Create`\n",
    "\n",
    "Now others can view your proposed changes on GitHub by navigating to **Pull Requests**.\n",
    "\n",
    "<img src=\"resources/git/prs-on-github.png\" width=\"30%\"/>"
   ]
  },
  {
   "cell_type": "markdown",
   "metadata": {},
   "source": [
    "## Reviewing Pull Requests\n",
    "\n",
    "PRs are useful to put code through a review process before being merged.\n",
    "\n",
    "This is a detailed topic not covered here, but briefly, a review gives other developers have the opportunity to comment on your work and assess its suitability. This can be done on GitHub, or directly in VS Code."
   ]
  },
  {
   "cell_type": "markdown",
   "metadata": {},
   "source": [
    "## Merging Pull Requests\n",
    "\n",
    "After a successful review, someone (perhaps yourself) will merge your PR:\n",
    "\n",
    "1. On GitHub, visit the PR and click `Merge pull request`\n",
    "3. In VS Code:\n",
    "   - Switch back to `main`\n",
    "   - Click `Sync Changes` to get the merged code"
   ]
  },
  {
   "cell_type": "markdown",
   "metadata": {},
   "source": [
    "## Feature Branch Workflow\n",
    "\n",
    "A typical workflow looks like this:\n",
    "\n",
    "1. Starting:\n",
    "   ```\n",
    "   ↻ Sync main branch\n",
    "   🌿 Create feature branch\n",
    "   ```\n",
    "\n",
    "2. Developing:\n",
    "   ```\n",
    "   ✏️ Make changes\n",
    "   ✓ Commit often\n",
    "   ↻ Push changes\n",
    "   ```\n",
    "\n",
    "3. Finishing:\n",
    "   ```\n",
    "   📬 Create Pull Request\n",
    "   👀 Get review\n",
    "   🔀 Merge to main\n",
    "   ```"
   ]
  },
  {
   "cell_type": "markdown",
   "metadata": {},
   "source": [
    "## Let's Practise!\n",
    "\n",
    "Work in parallel with the person you previously paired with.\n",
    "\n",
    "* Create a feature branch on your partner's repository.\n",
    "   - Add yet another sorting implementation\n",
    "   - Push your branch\n",
    "   - Open a PR\n",
    "   - Ask your partner to review and merge it\n",
    "   - Update your main branch to the latest version\n",
    "\n",
    "### Questions to Think About\n",
    "- When should you create a new branch?\n",
    "- What makes a good branch name?\n",
    "- How often should you push your branch?"
   ]
  },
  {
   "cell_type": "markdown",
   "metadata": {},
   "source": [
    "## Key Points\n",
    "\n",
    "- Branches isolate changes from each other\n",
    "- Always branch from up-to-date main\n",
    "- Push branches often to backup work\n",
    "- Use Pull Requests to review changes"
   ]
  }
 ],
 "metadata": {
  "kernelspec": {
   "display_name": "Python 3",
   "language": "python",
   "name": "python3"
  },
  "language_info": {
   "codemirror_mode": {
    "name": "ipython",
    "version": 3
   },
   "file_extension": ".py",
   "mimetype": "text/x-python",
   "name": "python",
   "nbconvert_exporter": "python",
   "pygments_lexer": "ipython3",
   "version": "3.11.11"
  }
 },
 "nbformat": 4,
 "nbformat_minor": 4
}
