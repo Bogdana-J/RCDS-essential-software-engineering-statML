{
 "cells": [
  {
   "cell_type": "markdown",
   "metadata": {},
   "source": [
    "# Debugging\n",
    "\n",
    "Debugging is the process of tracking down and fixing problems in a code. VS Code contains a powerful debugger that can be used to debug code written in many languages. In this notebook, we will see how to use the debugger in VS Code to debug Python code."
   ]
  },
  {
   "cell_type": "markdown",
   "metadata": {},
   "source": [
    "## The Example\n",
    "\n",
    "* Open the file [`quadratic.py`](quadratic.py). It contains a function which calculates the roots of a quadratic equation. It contains a couple of bugs that we're going to fix.\n",
    "* Run the file. The code at the bottom of the screen will ask it to solve the equation $x^2 + 2x + 1 = 0$. This equation has one root at $x = -1$. However, the code will print two roots, neither of which are -1. This is because the code contains a bug.\n",
    "* We will use the debugger to find and fix the bug."
   ]
  },
  {
   "cell_type": "markdown",
   "metadata": {},
   "source": [
    "## The Debugger\n",
    "\n",
    "The debugger allows us to run the code, instructing it to pause at points we determine, known as breakpoints. When it does this, we can inspect the values of variables, step through the code line by line, and see the effect of each line on the variables. This is a powerful tool for finding bugs in code. It's possible to configure the debugger more formally, but we will use it in a basic way here.\n",
    "\n",
    "* In `quadratic.py` hover you mouse over the line numbers on the left side of the screen. Click on line 19, 21, 30 and 39 to set breakpoints. Red dots will appear on the lines where you set the breakpoints.\n",
    "* Next to the Play button, there is a downward facing chevron. Click this, then select \"Python Debugger: Debug Python File\" from the dropdown menu.\n",
    "* The Debugger explorer view will open on the left. Follow the prompts, selecting the default options\n",
    "* The code will start running, but will stop at the first breakpoint. In the debugger explorer view, you can see the values of variables. \n",
    "* You can also step through the code by clicking the play button at the top of the screen. This will advance the code to the next breakpoint or the end of the code.\n",
    "* At the bottom of the debugger explorer view, you can see the call-stack. This shows which functions have been called and in what order to reach the current breakpoint. This can be useful for determining the context in which a line of code is executed.\n",
    "* Advance thetough the code and see the values change. Note that the code will skip over breakpoint on lines of code which are not executed (such as those within if-blocks).\n",
    "\n",
    "The debuger allows us to check which lines of code are executed, which is great for checking the logic of our code. It also lets us check values against what we expect them to be. This is all without actually making an edits to our code, which means we remove the chance of accidentally include `print` statements to the code that we used to debug, but forgot to remove.\n",
    "\n",
    "In this example, we know that we expect the discriminant to be zero, so we can check this in the debugger. The breakpoint on line 30 shows us the discriminant is actually 8 - this is the bug we need to fix. This directs us to look at line 28 where the discriminant is calculated. Here is the error, the expression is `b ** 2 + 4 * a * c` when the mathematical expression we want to represent is $b^2 - 4ac$. Switching the `-` to `+` will fix the bug.\n"
   ]
  },
  {
   "cell_type": "code",
   "execution_count": 11,
   "metadata": {},
   "outputs": [
    {
     "data": {
      "text/plain": [
       "6"
      ]
     },
     "execution_count": 11,
     "metadata": {},
     "output_type": "execute_result"
    }
   ],
   "source": [
    "a=1\n",
    "b=5\n",
    "b+a"
   ]
  }
 ],
 "metadata": {
  "kernelspec": {
   "display_name": "Python 3",
   "language": "python",
   "name": "python3"
  },
  "language_info": {
   "codemirror_mode": {
    "name": "ipython",
    "version": 3
   },
   "file_extension": ".py",
   "mimetype": "text/x-python",
   "name": "python",
   "nbconvert_exporter": "python",
   "pygments_lexer": "ipython3",
   "version": "3.11.11"
  }
 },
 "nbformat": 4,
 "nbformat_minor": 2
}
