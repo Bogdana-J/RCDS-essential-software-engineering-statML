{
 "cells": [
  {
   "cell_type": "markdown",
   "metadata": {},
   "source": [
    "# Git: Ignoring Files and Undoing Changes\n",
    "\n",
    "## Objectives\n",
    "- Learn how to tell Git to ignore certain files\n",
    "- Understand how to undo changes in Git\n",
    "- Learn the difference between `reset` and `revert`\n",
    "\n",
    "## Questions\n",
    "- How do I prevent Git from tracking files I don't want to share?\n",
    "- How can I undo changes I've made?\n",
    "- What's the difference between `reset` and `revert`?"
   ]
  },
  {
   "cell_type": "markdown",
   "metadata": {},
   "source": [
    "## Creating a Simple Python Module\n",
    "\n",
    "Let's start by creating a new Python file. In VS Code:\n",
    "\n",
    "1. Create a new file called `sort.py`\n",
    "2. Ask GitHub Copilot to help you write a `sort_list` function that sorts a list\n",
    "\n",
    "You should now have a Python file with a sorting function. Use the cell below to test it!\n",
    "\n",
    "**Please change the import if Copilot gave your function a different name**"
   ]
  },
  {
   "cell_type": "code",
   "execution_count": null,
   "metadata": {},
   "outputs": [],
   "source": [
    "from sort import sort_list  # or whatever name Copilot gave the function\n",
    "\n",
    "# Let's test it with a sample list\n",
    "numbers = [5, 2, 8, 1, 9, 3]\n",
    "sort_list(numbers)"
   ]
  },
  {
   "cell_type": "markdown",
   "metadata": {},
   "source": [
    "## Unwanted Files Appear!\n",
    "\n",
    "After running the code, you'll notice something new in your Source Control panel: `.pyc` files in a `__pycache__` directory.\n",
    "\n",
    "<img src=\"fig/pycache-appears.png\" width=\"20%\"/>\n",
    "\n",
    "This directory contains compiled Python files (`.pyc`) that Python creates to run your code more efficiently. However:\n",
    "- These files are automatically generated\n",
    "- They're different on each computer\n",
    "- We don't need to track them in Git\n",
    "\n",
    "This is where `.gitignore` comes in!"
   ]
  },
  {
   "cell_type": "markdown",
   "metadata": {},
   "source": [
    "## Creating a .gitignore File\n",
    "\n",
    "1. Create a new file called `.gitignore` (note the starting dot)\n",
    "2. Add this line to ignore Python cache directories:\n",
    "   ```\n",
    "   __pycache__/\n",
    "   ```\n",
    "3. Save the file\n",
    "\n",
    "You'll notice the `__pycache__` directory disappears from the Source Control panel!\n",
    "\n",
    "<img src=\"fig/after-gitignore.png\" width=\"20%\"/>\n",
    "\n",
    "The `.gitignore` file tells Git which files and directories to ignore. Common things to ignore:\n",
    "- Compiled files (`__pycache__/`, `.pyc`)\n",
    "- Environment files (`.env`)\n",
    "- IDE settings (`.vscode/`)\n",
    "- Log files (`*.log`)\n",
    "\n",
    "Make sure to commit your `.gitignore` file!"
   ]
  },
  {
   "cell_type": "markdown",
   "metadata": {},
   "source": [
    "## Undoing Changes with Git\n",
    "\n",
    "Now let's learn how to undo changes. Git provides two main ways:\n",
    "- `reset`: Removes commits from history (like they never happened)\n",
    "- `revert`: Adds new commits that undo previous changes\n",
    "\n",
    "Let's try both!"
   ]
  },
  {
   "cell_type": "markdown",
   "metadata": {},
   "source": [
    "## Using Reset\n",
    "\n",
    "First, let's make some changes we want to undo:\n",
    "\n",
    "1. Modify `sort.py` to add a comment\n",
    "2. Stage and commit the change\n",
    "3. Make another change and commit it\n",
    "\n",
    "Now to undo with reset:\n",
    "\n",
    "1. Click the Source Control Graph button\n",
    "2. Right-click the commit you want to go back to\n",
    "3. Select 'Reset > Hard Reset'\n",
    "\n",
    "<img src=\"fig/reset-option.png\" width=\"90%\"/>\n",
    "\n",
    "The commits after your selected point disappear completely!\n",
    "\n",
    "⚠️ **Warning**: Reset rewrites history. Only use it on commits you haven't shared with others!"
   ]
  },
  {
   "cell_type": "markdown",
   "metadata": {},
   "source": [
    "## Using Revert\n",
    "\n",
    "Now let's try revert:\n",
    "\n",
    "1. Make another change to `sort.py`\n",
    "2. Commit it\n",
    "3. In the Source Control Graph, right-click the commit\n",
    "4. Select 'Revert Commit'\n",
    "\n",
    "<img src=\"fig/revert-option.png\" width=\"90%\"/>\n",
    "\n",
    "Notice the difference:\n",
    "- The original commit stays in history\n",
    "- A new commit is created that undoes the changes\n",
    "- The Git Graph shows both commits\n",
    "\n",
    "This is safer than reset because:\n",
    "- History is preserved\n",
    "- Others can see what happened\n",
    "- You can undo the revert if needed"
   ]
  },
  {
   "cell_type": "markdown",
   "metadata": {},
   "source": [
    "## Let's Practice!\n",
    "\n",
    "Try these exercises:\n",
    "\n",
    "1. Add more patterns to your `.gitignore`:\n",
    "   - Add `*.pyc` to ignore all compiled Python files\n",
    "   - Add `.DS_Store` to ignore Mac system files\n",
    "   - Commit your changes\n",
    "\n",
    "2. Practice reset:\n",
    "   - Make some changes to `sort.py`\n",
    "   - Commit them\n",
    "   - Use reset to undo them\n",
    "   - What happened to your files?\n",
    "\n",
    "3. Practice revert:\n",
    "   - Make and commit new changes\n",
    "   - Revert your commit\n",
    "   - Look at the Git Graph\n",
    "   - How is this different from reset?\n",
    "\n",
    "### Questions to Think About\n",
    "- When would you use reset vs. revert?\n",
    "- What other files might you want to ignore in your projects?\n",
    "- What happens if you try to reset a commit you've already pushed?"
   ]
  },
  {
   "cell_type": "markdown",
   "metadata": {},
   "source": [
    "## Key Points\n",
    "\n",
    "- Use `.gitignore` to prevent Git from tracking unwanted files\n",
    "- `reset` removes commits from history (use only on local changes)\n",
    "- `revert` creates new commits that undo changes (safer for shared work)"
   ]
  }
 ],
 "metadata": {
  "kernelspec": {
   "display_name": "Python 3",
   "language": "python",
   "name": "python3"
  },
  "language_info": {
   "codemirror_mode": {
    "name": "ipython",
    "version": 3
   },
   "file_extension": ".py",
   "mimetype": "text/x-python",
   "name": "python",
   "nbconvert_exporter": "python",
   "pygments_lexer": "ipython3",
   "version": "3.8.0"
  }
 },
 "nbformat": 4,
 "nbformat_minor": 4
}
